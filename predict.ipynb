{
  "cells": [
    {
      "cell_type": "markdown",
      "metadata": {
        "id": "FQ1QwacGxYXV"
      },
      "source": [
        "## Create dataset\n",
        "\n",
        "* Number of batteries: 10\n",
        "\n",
        "* One month, one hour granularity\n",
        "\n",
        "* Two sensors per battery: power meter and temperature sensor"
      ]
    },
    {
      "cell_type": "code",
      "execution_count": null,
      "metadata": {
        "id": "21nFj27_IbzJ"
      },
      "outputs": [],
      "source": [
        "import pandas as pd\n",
        "import numpy as np\n",
        "from datetime import datetime, timedelta\n",
        "import json\n",
        "import requests\n",
        "\n",
        "# Set random seed for consistency\n",
        "np.random.seed(123)\n",
        "\n",
        "# Constants\n",
        "n_batteries = 10\n",
        "days_in_january = 31\n",
        "hours_per_day = 24\n",
        "total_hours = days_in_january * hours_per_day  # 744 hours\n",
        "start_time = datetime(2025, 3, 1, 0, 0, 0)  # March 1, 2025, 00:00:00\n",
        "\n",
        "# Simulate daily usage (1–3 hours/day) and covariates\n",
        "daily_usage = np.random.uniform(1, 3, size=(n_batteries, days_in_january))\n",
        "hourly_usage = daily_usage.cumsum(axis=1)  # Cumulative usage per day\n",
        "temperature = np.random.uniform(20, 55, n_batteries)  # 20–55°C\n",
        "load = np.random.uniform(1, 32, n_batteries)  # 1–32 kW\n",
        "manufacturers = np.random.choice(['A', 'B', 'C'], n_batteries)"
      ]
    },
    {
      "cell_type": "code",
      "execution_count": null,
      "metadata": {
        "id": "IYYv1iRuT-Xu"
      },
      "outputs": [],
      "source": [
        "# API endpoints\n",
        "BASE_URL_REMOTE = \"http://13.60.16.153/api/v1/\"\n",
        "HEADERS = {\"Content-Type\": \"application/json\"}"
      ]
    },
    {
      "cell_type": "code",
      "execution_count": null,
      "metadata": {
        "colab": {
          "base_uri": "https://localhost:8080/"
        },
        "id": "r4t-rl3OUG8m",
        "outputId": "69fc760e-2d3f-4425-e879-d02db132035e"
      },
      "outputs": [
        {
          "data": {
            "text/plain": [
              "{'buildings': [{'building_id': 'b001',\n",
              "   'name': 'HQ',\n",
              "   'description': 'Headquarters',\n",
              "   'location': '1234 Main St.'}]}"
            ]
          },
          "execution_count": 44,
          "metadata": {},
          "output_type": "execute_result"
        }
      ],
      "source": [
        "requests.get(f\"{BASE_URL_REMOTE}buildings\").json()"
      ]
    },
    {
      "cell_type": "code",
      "execution_count": null,
      "metadata": {
        "colab": {
          "base_uri": "https://localhost:8080/"
        },
        "id": "Z7dp4s4jUWBC",
        "outputId": "80ab48c1-4434-4c74-9650-06290d595626"
      },
      "outputs": [
        {
          "data": {
            "text/plain": [
              "{'spaces': [{'building_id': 'b001',\n",
              "   'name': 'Room 0',\n",
              "   'type': 'Operation',\n",
              "   'floor': 1,\n",
              "   'space_id': 'sp1'},\n",
              "  {'building_id': 'b001',\n",
              "   'name': 'Room 1',\n",
              "   'type': 'Operation',\n",
              "   'floor': 1,\n",
              "   'space_id': 'sp2'},\n",
              "  {'building_id': 'b001',\n",
              "   'name': 'Room 2',\n",
              "   'type': 'Operation',\n",
              "   'floor': 1,\n",
              "   'space_id': 'sp3'},\n",
              "  {'building_id': 'b001',\n",
              "   'name': 'Room 3',\n",
              "   'type': 'Operation',\n",
              "   'floor': 1,\n",
              "   'space_id': 'sp4'},\n",
              "  {'building_id': 'b001',\n",
              "   'name': 'Engine lab',\n",
              "   'floor': 2,\n",
              "   'type': 'Lab',\n",
              "   'space_id': 'lab002'}]}"
            ]
          },
          "execution_count": 45,
          "metadata": {},
          "output_type": "execute_result"
        }
      ],
      "source": [
        "requests.get(f\"{BASE_URL_REMOTE}spaces\").json()"
      ]
    },
    {
      "cell_type": "code",
      "execution_count": null,
      "metadata": {
        "colab": {
          "base_uri": "https://localhost:8080/"
        },
        "id": "ovHMwMptImus",
        "outputId": "acd1f84d-6c95-41ce-d297-00a8f861862d"
      },
      "outputs": [
        {
          "data": {
            "text/plain": [
              "{'space_id': 'lab001',\n",
              " 'building_id': 'b001',\n",
              " 'name': 'Battery Test Lab',\n",
              " 'type': 'laboratory',\n",
              " 'floor': 2}"
            ]
          },
          "execution_count": 53,
          "metadata": {},
          "output_type": "execute_result"
        }
      ],
      "source": [
        "# 2. Space Data\n",
        "space = {\n",
        "    \"space_id\": \"lab001\",\n",
        "    \"building_id\": \"b001\",\n",
        "    \"name\": \"Battery Test Lab\",\n",
        "    \"type\": \"laboratory\",\n",
        "    \"floor\": 2\n",
        "}\n",
        "space"
      ]
    },
    {
      "cell_type": "code",
      "execution_count": null,
      "metadata": {
        "colab": {
          "base_uri": "https://localhost:8080/"
        },
        "id": "my3-pNhcVwkn",
        "outputId": "ecc54875-910c-4c38-979d-544348332981"
      },
      "outputs": [
        {
          "name": "stdout",
          "output_type": "stream",
          "text": [
            "Space Post Status: 201 - {\"space\":{\"building_id\":\"b001\",\"name\":\"Battery Test Lab\",\"floor\":2,\"type\":\"laboratory\",\"space_id\":\"lab001\"}}\n"
          ]
        }
      ],
      "source": [
        "response = requests.post(f\"{BASE_URL_REMOTE}spaces\", headers=HEADERS, data=json.dumps(space))\n",
        "print(f\"Space Post Status: {response.status_code} - {response.text}\")"
      ]
    },
    {
      "cell_type": "code",
      "execution_count": null,
      "metadata": {
        "colab": {
          "base_uri": "https://localhost:8080/"
        },
        "id": "Uz_HDfaPV7UX",
        "outputId": "0078d7d6-aca8-43d2-ad3c-3b35eb3c8138"
      },
      "outputs": [
        {
          "name": "stdout",
          "output_type": "stream",
          "text": [
            "Space Get Status: 200 - {\"spaces\":[{\"building_id\":\"b001\",\"name\":\"Room 0\",\"type\":\"Operation\",\"floor\":1,\"space_id\":\"sp1\"},{\"building_id\":\"b001\",\"name\":\"Room 1\",\"type\":\"Operation\",\"floor\":1,\"space_id\":\"sp2\"},{\"building_id\":\"b001\",\"name\":\"Room 2\",\"type\":\"Operation\",\"floor\":1,\"space_id\":\"sp3\"},{\"building_id\":\"b001\",\"name\":\"Room 3\",\"type\":\"Operation\",\"floor\":1,\"space_id\":\"sp4\"},{\"building_id\":\"b001\",\"name\":\"Engine lab\",\"type\":\"Lab\",\"floor\":2,\"space_id\":\"lab002\"},{\"building_id\":\"b001\",\"name\":\"Battery Test Lab\",\"type\":\"laboratory\",\"floor\":2,\"space_id\":\"lab001\"}]}\n"
          ]
        }
      ],
      "source": [
        "response = requests.get(f\"{BASE_URL_REMOTE}spaces\")\n",
        "print(f\"Space Get Status: {response.status_code} - {response.text}\")"
      ]
    },
    {
      "cell_type": "code",
      "execution_count": null,
      "metadata": {
        "id": "unsyRFtUIonF"
      },
      "outputs": [],
      "source": [
        "# 3. Equipment Data (one per battery)\n",
        "equipment_list = [\n",
        "    {\n",
        "        \"equipment_id\": f\"batt_{i+1}\",\n",
        "        \"space_id\": \"lab001\",\n",
        "        \"name\": f\"Battery {i+1}\",\n",
        "        \"type\": \"Battery\",\n",
        "        \"manufacturer\": manufacturers[i],\n",
        "        \"model\": \"SimBatt-2025\"\n",
        "    } for i in range(n_batteries)\n",
        "]"
      ]
    },
    {
      "cell_type": "code",
      "execution_count": null,
      "metadata": {
        "colab": {
          "base_uri": "https://localhost:8080/"
        },
        "id": "sdbbd7MtWnac",
        "outputId": "1c50dc40-5c98-4c57-82a4-46596e8f9223"
      },
      "outputs": [
        {
          "name": "stdout",
          "output_type": "stream",
          "text": [
            "Equipment batt_1 Post Status: 201 - {\"equipment\":{\"name\":\"Battery 1\",\"model\":\"SimBatt-2025\",\"type\":\"Battery\",\"space_id\":\"lab001\",\"equipment_id\":\"batt_1\",\"manufacturer\":\"B\"}}\n",
            "Equipment batt_2 Post Status: 201 - {\"equipment\":{\"name\":\"Battery 2\",\"model\":\"SimBatt-2025\",\"type\":\"Battery\",\"space_id\":\"lab001\",\"equipment_id\":\"batt_2\",\"manufacturer\":\"B\"}}\n",
            "Equipment batt_3 Post Status: 201 - {\"equipment\":{\"name\":\"Battery 3\",\"model\":\"SimBatt-2025\",\"type\":\"Battery\",\"space_id\":\"lab001\",\"equipment_id\":\"batt_3\",\"manufacturer\":\"A\"}}\n",
            "Equipment batt_4 Post Status: 201 - {\"equipment\":{\"name\":\"Battery 4\",\"model\":\"SimBatt-2025\",\"type\":\"Battery\",\"space_id\":\"lab001\",\"equipment_id\":\"batt_4\",\"manufacturer\":\"A\"}}\n",
            "Equipment batt_5 Post Status: 201 - {\"equipment\":{\"name\":\"Battery 5\",\"model\":\"SimBatt-2025\",\"type\":\"Battery\",\"space_id\":\"lab001\",\"equipment_id\":\"batt_5\",\"manufacturer\":\"B\"}}\n",
            "Equipment batt_6 Post Status: 201 - {\"equipment\":{\"name\":\"Battery 6\",\"model\":\"SimBatt-2025\",\"type\":\"Battery\",\"space_id\":\"lab001\",\"equipment_id\":\"batt_6\",\"manufacturer\":\"C\"}}\n",
            "Equipment batt_7 Post Status: 201 - {\"equipment\":{\"name\":\"Battery 7\",\"model\":\"SimBatt-2025\",\"type\":\"Battery\",\"space_id\":\"lab001\",\"equipment_id\":\"batt_7\",\"manufacturer\":\"A\"}}\n",
            "Equipment batt_8 Post Status: 201 - {\"equipment\":{\"name\":\"Battery 8\",\"model\":\"SimBatt-2025\",\"type\":\"Battery\",\"space_id\":\"lab001\",\"equipment_id\":\"batt_8\",\"manufacturer\":\"C\"}}\n",
            "Equipment batt_9 Post Status: 201 - {\"equipment\":{\"name\":\"Battery 9\",\"model\":\"SimBatt-2025\",\"type\":\"Battery\",\"space_id\":\"lab001\",\"equipment_id\":\"batt_9\",\"manufacturer\":\"A\"}}\n",
            "Equipment batt_10 Post Status: 201 - {\"equipment\":{\"name\":\"Battery 10\",\"model\":\"SimBatt-2025\",\"type\":\"Battery\",\"space_id\":\"lab001\",\"equipment_id\":\"batt_10\",\"manufacturer\":\"A\"}}\n"
          ]
        }
      ],
      "source": [
        "for equip in equipment_list:\n",
        "    response = requests.post(f\"{BASE_URL_REMOTE}equipment\", headers=HEADERS, data=json.dumps(equip))\n",
        "    print(f\"Equipment {equip['equipment_id']} Post Status: {response.status_code} - {response.text}\")"
      ]
    },
    {
      "cell_type": "code",
      "execution_count": null,
      "metadata": {
        "id": "U4ffvnUdIrhB"
      },
      "outputs": [],
      "source": [
        "# 4. Sensor Data (two sensors per battery: power and temperature)\n",
        "sensors_list = []\n",
        "for i in range(n_batteries):\n",
        "    # Power sensor for Load\n",
        "    sensors_list.append({\n",
        "        \"sensor_id\": f\"s_power_{i+1}\",\n",
        "        \"equipment_id\": f\"batt_{i+1}\",\n",
        "        \"type\": \"power\",\n",
        "        \"unit\": \"kW\",\n",
        "        \"measurement_range\": \"0-50\"\n",
        "    })\n",
        "    # Temperature sensor\n",
        "    sensors_list.append({\n",
        "        \"sensor_id\": f\"s_temp_{i+1}\",\n",
        "        \"equipment_id\": f\"batt_{i+1}\",\n",
        "        \"type\": \"temperature\",\n",
        "        \"unit\": \"°C\",\n",
        "        \"measurement_range\": \"0-100\"\n",
        "    })"
      ]
    },
    {
      "cell_type": "code",
      "execution_count": null,
      "metadata": {
        "id": "lca1uxqLW4sc"
      },
      "outputs": [],
      "source": [
        "for sensor in sensors_list:\n",
        "    response = requests.post(f\"{BASE_URL_REMOTE}sensors\", headers=HEADERS, data=json.dumps(sensor))\n",
        "    print(f\"Sensor {sensor['sensor_id']} Post Status: {response.status_code} - {response.text}\")"
      ]
    },
    {
      "cell_type": "code",
      "execution_count": null,
      "metadata": {
        "id": "Nv19AaR9a3r8"
      },
      "outputs": [],
      "source": [
        "import hashlib"
      ]
    },
    {
      "cell_type": "code",
      "execution_count": null,
      "metadata": {
        "colab": {
          "base_uri": "https://localhost:8080/"
        },
        "id": "7jy43WicyM4y",
        "outputId": "32cdd527-625b-4913-936c-d8609cc3c9f4"
      },
      "outputs": [
        {
          "name": "stdout",
          "output_type": "stream",
          "text": [
            "Total Data Points Posted: 14880\n"
          ]
        }
      ],
      "source": [
        "# Updated Data Points with 24-character hash\n",
        "data_points = []\n",
        "for i in range(n_batteries):\n",
        "    batt_usage = hourly_usage[i]\n",
        "    batt_temp = temperature[i]\n",
        "    batt_load = load[i]\n",
        "    hourly_increments = np.diff(np.concatenate([[0], batt_usage]))\n",
        "    daily_index = 0\n",
        "    remaining_hours = hourly_increments[0]\n",
        "\n",
        "    for hour in range(total_hours):\n",
        "        timestamp = (start_time + timedelta(hours=hour)).isoformat() + \"Z\"\n",
        "\n",
        "        if remaining_hours <= 0 and daily_index < days_in_march - 1:\n",
        "            daily_index += 1\n",
        "            remaining_hours = hourly_increments[daily_index]\n",
        "\n",
        "        # Generate unique 24-character hash for power data point\n",
        "        power_hash_input = f\"s_power_{i+1}_{timestamp}_{hour}\"\n",
        "        power_dp_id = hashlib.sha256(power_hash_input.encode()).hexdigest()[:24]\n",
        "        power_data = {\n",
        "            \"data_point_id\": power_dp_id,\n",
        "            \"sensor_id\": f\"s_power_{i+1}\",\n",
        "            \"timestamp\": timestamp,\n",
        "            \"value\": batt_load if remaining_hours > 0 else 0\n",
        "        }\n",
        "        data_points.append(power_data)\n",
        "\n",
        "        # Generate unique 24-character hash for temperature data point\n",
        "        temp_hash_input = f\"s_temp_{i+1}_{timestamp}_{hour}\"\n",
        "        temp_dp_id = hashlib.sha256(temp_hash_input.encode()).hexdigest()[:24]\n",
        "        temp_data = {\n",
        "            \"data_point_id\": temp_dp_id,\n",
        "            \"sensor_id\": f\"s_temp_{i+1}\",\n",
        "            \"timestamp\": timestamp,\n",
        "            \"value\": batt_temp if remaining_hours > 0 else batt_temp * 0.8\n",
        "        }\n",
        "        data_points.append(temp_data)\n",
        "\n",
        "        if remaining_hours > 0:\n",
        "            remaining_hours -= 1 / hours_per_day\n",
        "\n",
        "print(f\"Total Data Points Posted: {len(data_points)}\")"
      ]
    },
    {
      "cell_type": "code",
      "execution_count": null,
      "metadata": {
        "colab": {
          "base_uri": "https://localhost:8080/"
        },
        "id": "FwaCNK-Ba6M8",
        "outputId": "4db4c290-65fa-41ed-a9f3-92af5c685114"
      },
      "outputs": [
        {
          "data": {
            "text/plain": [
              "{'data_point_id': '46c0bd5d6df87c928ae1e8b1',\n",
              " 'sensor_id': 's_power_10',\n",
              " 'timestamp': '2025-03-13T16:00:00Z',\n",
              " 'value': 29.524626122529153}"
            ]
          },
          "execution_count": 71,
          "metadata": {},
          "output_type": "execute_result"
        }
      ],
      "source": [
        "data_points[14000]"
      ]
    },
    {
      "cell_type": "code",
      "execution_count": null,
      "metadata": {
        "id": "3I8rtPxHayU8"
      },
      "outputs": [],
      "source": [
        "# Post data points in batches\n",
        "batch_size = 1000\n",
        "for i in range(0, len(data_points), batch_size):\n",
        "    batch = data_points[i:i + batch_size]\n",
        "    for point in batch:\n",
        "        # For data-ingest, use the expected format with \"device_id\" and \"data\"\n",
        "        ingest_data = {\n",
        "            \"device_id\": point[\"sensor_id\"],\n",
        "            \"timestamp\": point[\"timestamp\"],\n",
        "            \"data\": {\"load\" if \"power\" in point[\"sensor_id\"] else \"temperature\": point[\"value\"]}\n",
        "        }\n",
        "        response = requests.post(f\"{BASE_URL_REMOTE}data-ingest\", headers=HEADERS, data=json.dumps(ingest_data))\n",
        "        print(f\"Data Point {point['data_point_id']} for {point['sensor_id']} at {point['timestamp']} Status: {response.status_code} - {response.text}\")"
      ]
    },
    {
      "cell_type": "code",
      "execution_count": null,
      "metadata": {
        "colab": {
          "base_uri": "https://localhost:8080/"
        },
        "id": "87V_9sPcYKgF",
        "outputId": "90680586-f3b2-453b-a707-82ab0ac9b04d"
      },
      "outputs": [
        {
          "data": {
            "text/plain": [
              "{'data_point_id': 'dp_power_1_1',\n",
              " 'sensor_id': 's_power_1',\n",
              " 'timestamp': '2025-03-01T00:00:00Z',\n",
              " 'value': 1.1094985399536985}"
            ]
          },
          "execution_count": 63,
          "metadata": {},
          "output_type": "execute_result"
        }
      ],
      "source": [
        "data_points[0]"
      ]
    },
    {
      "cell_type": "code",
      "execution_count": null,
      "metadata": {
        "id": "nHfT8xIRXxl2"
      },
      "outputs": [],
      "source": [
        "with open('equipment.json', 'w') as f:\n",
        "    json.dump(equipment_list, f, indent=4)\n",
        "with open('sensors.json', 'w') as f:\n",
        "    json.dump(sensors_list, f, indent=4)\n",
        "with open('data_points.json', 'w') as f:\n",
        "    json.dump(data_points, f, indent=4)"
      ]
    }
  ],
  "metadata": {
    "colab": {
      "provenance": []
    },
    "kernelspec": {
      "display_name": "Python 3",
      "name": "python3"
    },
    "language_info": {
      "name": "python"
    }
  },
  "nbformat": 4,
  "nbformat_minor": 0
}
