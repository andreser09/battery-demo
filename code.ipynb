{
  "nbformat": 4,
  "nbformat_minor": 0,
  "metadata": {
    "colab": {
      "provenance": []
    },
    "kernelspec": {
      "name": "python3",
      "display_name": "Python 3"
    },
    "language_info": {
      "name": "python"
    }
  },
  "cells": [
    {
      "cell_type": "markdown",
      "source": [
        "# Load data and train model"
      ],
      "metadata": {
        "id": "p-_bPg8FC5N-"
      }
    },
    {
      "cell_type": "code",
      "source": [
        "!pip install lifelines"
      ],
      "metadata": {
        "id": "MOgMpHq8DBFM"
      },
      "execution_count": null,
      "outputs": []
    },
    {
      "cell_type": "code",
      "source": [
        "# Setup: Import libraries\n",
        "import pandas as pd\n",
        "import scipy.io as sio\n",
        "from lifelines import CoxPHFitter\n",
        "import pickle"
      ],
      "metadata": {
        "id": "jrw1XrspEOhE"
      },
      "execution_count": null,
      "outputs": []
    },
    {
      "cell_type": "code",
      "source": [
        "# Step 1: Load the covariate data from .mat file\n",
        "mat_data = sio.loadmat('covariates.mat')  # Path to your exported file\n",
        "data_struct = mat_data['data_struct']\n",
        "\n",
        "# Create DataFrame\n",
        "df = pd.DataFrame({\n",
        "    'DischargeTime': [row[0][3][0][0] for row in data_struct],  # DTime\n",
        "    'Temperature': [row[0][0][0][0] for row in data_struct],\n",
        "    'Load': [row[0][1][0][0] for row in data_struct],\n",
        "    'Manufacturer': [row[0][2][0] for row in data_struct]\n",
        "})\n",
        "df['Manufacturer'] = df['Manufacturer'].astype('category')"
      ],
      "metadata": {
        "id": "3viJ68afEQk8"
      },
      "execution_count": null,
      "outputs": []
    },
    {
      "cell_type": "code",
      "source": [
        "# Step 2: Encode categorical variable (Manufacturer)\n",
        "df_encoded = pd.get_dummies(df, columns=['Manufacturer'], drop_first=True)\n",
        "\n",
        "# Step 3: Fit the Cox model\n",
        "cph = CoxPHFitter()\n",
        "cph.fit(df_encoded, duration_col='DischargeTime')  # No censoring assumed\n",
        "print(\"Model Summary:\")\n",
        "cph.print_summary()"
      ],
      "metadata": {
        "colab": {
          "base_uri": "https://localhost:8080/",
          "height": 548
        },
        "id": "SpeILlNfEXF0",
        "outputId": "ea628891-c361-4fbd-ef51-2e58075d61e7"
      },
      "execution_count": null,
      "outputs": [
        {
          "output_type": "stream",
          "name": "stdout",
          "text": [
            "Model Summary:\n"
          ]
        },
        {
          "output_type": "display_data",
          "data": {
            "text/plain": [
              "<lifelines.CoxPHFitter: fitted with 1000 total observations, 0 right-censored observations>\n",
              "             duration col = 'DischargeTime'\n",
              "      baseline estimation = breslow\n",
              "   number of observations = 1000\n",
              "number of events observed = 1000\n",
              "   partial log-likelihood = -5910.91\n",
              "         time fit was run = 2025-03-05 16:15:03 UTC\n",
              "\n",
              "---\n",
              "                coef exp(coef)  se(coef)  coef lower 95%  coef upper 95% exp(coef) lower 95% exp(coef) upper 95%\n",
              "covariate                                                                                                       \n",
              "Temperature     0.00      1.00      0.00           -0.00            0.00                1.00                1.00\n",
              "Load           -0.00      1.00      0.00           -0.01            0.00                0.99                1.00\n",
              "Manufacturer_B -0.06      0.94      0.08           -0.21            0.09                0.81                1.09\n",
              "Manufacturer_C  0.04      1.05      0.08           -0.11            0.20                0.90                1.22\n",
              "\n",
              "                cmp to     z    p  -log2(p)\n",
              "covariate                                  \n",
              "Temperature       0.00  0.71 0.47      1.08\n",
              "Load              0.00 -0.58 0.56      0.82\n",
              "Manufacturer_B    0.00 -0.78 0.44      1.20\n",
              "Manufacturer_C    0.00  0.57 0.57      0.82\n",
              "---\n",
              "Concordance = 0.51\n",
              "Partial AIC = 11829.82\n",
              "log-likelihood ratio test = 2.44 on 4 df\n",
              "-log2(p) of ll-ratio test = 0.61"
            ],
            "text/html": [
              "<div>\n",
              "<style scoped>\n",
              "    .dataframe tbody tr th:only-of-type {\n",
              "        vertical-align: middle;\n",
              "    }\n",
              "\n",
              "    .dataframe tbody tr th {\n",
              "        vertical-align: top;\n",
              "    }\n",
              "\n",
              "    .dataframe thead th {\n",
              "        text-align: right;\n",
              "    }\n",
              "</style>\n",
              "<table border=\"1\" class=\"dataframe\">\n",
              "  <tbody>\n",
              "    <tr>\n",
              "      <th>model</th>\n",
              "      <td>lifelines.CoxPHFitter</td>\n",
              "    </tr>\n",
              "    <tr>\n",
              "      <th>duration col</th>\n",
              "      <td>'DischargeTime'</td>\n",
              "    </tr>\n",
              "    <tr>\n",
              "      <th>baseline estimation</th>\n",
              "      <td>breslow</td>\n",
              "    </tr>\n",
              "    <tr>\n",
              "      <th>number of observations</th>\n",
              "      <td>1000</td>\n",
              "    </tr>\n",
              "    <tr>\n",
              "      <th>number of events observed</th>\n",
              "      <td>1000</td>\n",
              "    </tr>\n",
              "    <tr>\n",
              "      <th>partial log-likelihood</th>\n",
              "      <td>-5910.91</td>\n",
              "    </tr>\n",
              "    <tr>\n",
              "      <th>time fit was run</th>\n",
              "      <td>2025-03-05 16:15:03 UTC</td>\n",
              "    </tr>\n",
              "  </tbody>\n",
              "</table>\n",
              "</div><table border=\"1\" class=\"dataframe\">\n",
              "  <thead>\n",
              "    <tr style=\"text-align: right;\">\n",
              "      <th style=\"min-width: 12px;\"></th>\n",
              "      <th style=\"min-width: 12px;\">coef</th>\n",
              "      <th style=\"min-width: 12px;\">exp(coef)</th>\n",
              "      <th style=\"min-width: 12px;\">se(coef)</th>\n",
              "      <th style=\"min-width: 12px;\">coef lower 95%</th>\n",
              "      <th style=\"min-width: 12px;\">coef upper 95%</th>\n",
              "      <th style=\"min-width: 12px;\">exp(coef) lower 95%</th>\n",
              "      <th style=\"min-width: 12px;\">exp(coef) upper 95%</th>\n",
              "      <th style=\"min-width: 12px;\">cmp to</th>\n",
              "      <th style=\"min-width: 12px;\">z</th>\n",
              "      <th style=\"min-width: 12px;\">p</th>\n",
              "      <th style=\"min-width: 12px;\">-log2(p)</th>\n",
              "    </tr>\n",
              "  </thead>\n",
              "  <tbody>\n",
              "    <tr>\n",
              "      <th>Temperature</th>\n",
              "      <td>0.00</td>\n",
              "      <td>1.00</td>\n",
              "      <td>0.00</td>\n",
              "      <td>-0.00</td>\n",
              "      <td>0.00</td>\n",
              "      <td>1.00</td>\n",
              "      <td>1.00</td>\n",
              "      <td>0.00</td>\n",
              "      <td>0.71</td>\n",
              "      <td>0.47</td>\n",
              "      <td>1.08</td>\n",
              "    </tr>\n",
              "    <tr>\n",
              "      <th>Load</th>\n",
              "      <td>-0.00</td>\n",
              "      <td>1.00</td>\n",
              "      <td>0.00</td>\n",
              "      <td>-0.01</td>\n",
              "      <td>0.00</td>\n",
              "      <td>0.99</td>\n",
              "      <td>1.00</td>\n",
              "      <td>0.00</td>\n",
              "      <td>-0.58</td>\n",
              "      <td>0.56</td>\n",
              "      <td>0.82</td>\n",
              "    </tr>\n",
              "    <tr>\n",
              "      <th>Manufacturer_B</th>\n",
              "      <td>-0.06</td>\n",
              "      <td>0.94</td>\n",
              "      <td>0.08</td>\n",
              "      <td>-0.21</td>\n",
              "      <td>0.09</td>\n",
              "      <td>0.81</td>\n",
              "      <td>1.09</td>\n",
              "      <td>0.00</td>\n",
              "      <td>-0.78</td>\n",
              "      <td>0.44</td>\n",
              "      <td>1.20</td>\n",
              "    </tr>\n",
              "    <tr>\n",
              "      <th>Manufacturer_C</th>\n",
              "      <td>0.04</td>\n",
              "      <td>1.05</td>\n",
              "      <td>0.08</td>\n",
              "      <td>-0.11</td>\n",
              "      <td>0.20</td>\n",
              "      <td>0.90</td>\n",
              "      <td>1.22</td>\n",
              "      <td>0.00</td>\n",
              "      <td>0.57</td>\n",
              "      <td>0.57</td>\n",
              "      <td>0.82</td>\n",
              "    </tr>\n",
              "  </tbody>\n",
              "</table><br><div>\n",
              "<style scoped>\n",
              "    .dataframe tbody tr th:only-of-type {\n",
              "        vertical-align: middle;\n",
              "    }\n",
              "\n",
              "    .dataframe tbody tr th {\n",
              "        vertical-align: top;\n",
              "    }\n",
              "\n",
              "    .dataframe thead th {\n",
              "        text-align: right;\n",
              "    }\n",
              "</style>\n",
              "<table border=\"1\" class=\"dataframe\">\n",
              "  <tbody>\n",
              "    <tr>\n",
              "      <th>Concordance</th>\n",
              "      <td>0.51</td>\n",
              "    </tr>\n",
              "    <tr>\n",
              "      <th>Partial AIC</th>\n",
              "      <td>11829.82</td>\n",
              "    </tr>\n",
              "    <tr>\n",
              "      <th>log-likelihood ratio test</th>\n",
              "      <td>2.44 on 4 df</td>\n",
              "    </tr>\n",
              "    <tr>\n",
              "      <th>-log2(p) of ll-ratio test</th>\n",
              "      <td>0.61</td>\n",
              "    </tr>\n",
              "  </tbody>\n",
              "</table>\n",
              "</div>"
            ],
            "text/latex": "\\begin{tabular}{lrrrrrrrrrrr}\n & coef & exp(coef) & se(coef) & coef lower 95% & coef upper 95% & exp(coef) lower 95% & exp(coef) upper 95% & cmp to & z & p & -log2(p) \\\\\ncovariate &  &  &  &  &  &  &  &  &  &  &  \\\\\nTemperature & 0.00 & 1.00 & 0.00 & -0.00 & 0.00 & 1.00 & 1.00 & 0.00 & 0.71 & 0.47 & 1.08 \\\\\nLoad & -0.00 & 1.00 & 0.00 & -0.01 & 0.00 & 0.99 & 1.00 & 0.00 & -0.58 & 0.56 & 0.82 \\\\\nManufacturer_B & -0.06 & 0.94 & 0.08 & -0.21 & 0.09 & 0.81 & 1.09 & 0.00 & -0.78 & 0.44 & 1.20 \\\\\nManufacturer_C & 0.04 & 1.05 & 0.08 & -0.11 & 0.20 & 0.90 & 1.22 & 0.00 & 0.57 & 0.57 & 0.82 \\\\\n\\end{tabular}\n"
          },
          "metadata": {}
        }
      ]
    },
    {
      "cell_type": "code",
      "source": [
        "# Step 4: Save the model to a file\n",
        "with open('battery_survival_model.pkl', 'wb') as f:\n",
        "    pickle.dump(cph, f)\n",
        "print(\"Model saved as 'battery_survival_model.pkl'\")"
      ],
      "metadata": {
        "colab": {
          "base_uri": "https://localhost:8080/"
        },
        "id": "W6aX3aCpEZf6",
        "outputId": "4f567a67-160b-40f8-a15d-6fca648af6fc"
      },
      "execution_count": null,
      "outputs": [
        {
          "output_type": "stream",
          "name": "stdout",
          "text": [
            "Model saved as 'battery_survival_model.pkl'\n"
          ]
        }
      ]
    },
    {
      "cell_type": "markdown",
      "source": [
        "## Predict using the model"
      ],
      "metadata": {
        "id": "QdInWWh3WSyn"
      }
    },
    {
      "cell_type": "code",
      "source": [
        "def predict_remaining_life(test_data, model_path='battery_survival_model.pkl'):\n",
        "    \"\"\"\n",
        "    Predicts remaining battery life given test data and a saved Cox model.\n",
        "\n",
        "    Parameters:\n",
        "    - test_data (dict or pd.DataFrame): Input with 'DischargeTime', 'Temperature',\n",
        "      'Load', 'Manufacturer_B', 'Manufacturer_C' (e.g., {'DischargeTime': 30, ...}).\n",
        "    - model_path (str): Path to the saved model file (default: 'battery_survival_model.pkl').\n",
        "\n",
        "    Returns:\n",
        "    - float: Remaining life in hours (median total life - current usage).\n",
        "    \"\"\"\n",
        "    # Load the saved model\n",
        "    with open(model_path, 'rb') as f:\n",
        "        cph = pickle.load(f)\n",
        "\n",
        "    # Convert test_data to DataFrame if it's a dict\n",
        "    if isinstance(test_data, dict):\n",
        "        test_df = pd.DataFrame([test_data])\n",
        "    else:\n",
        "        test_df = test_data\n",
        "\n",
        "    # Ensure required columns are present\n",
        "    required_cols = ['DischargeTime', 'Temperature', 'Load', 'Manufacturer_B', 'Manufacturer_C']\n",
        "    for col in required_cols:\n",
        "        if col not in test_df.columns:\n",
        "            raise ValueError(f\"Missing column: {col}\")\n",
        "\n",
        "    # Predict median life\n",
        "    median_life = cph.predict_median(test_df)\n",
        "\n",
        "    # Calculate remaining life\n",
        "    remaining_life = median_life - test_df['DischargeTime'][0]\n",
        "\n",
        "    return remaining_life"
      ],
      "metadata": {
        "id": "RmjlD3SkE3Oo"
      },
      "execution_count": null,
      "outputs": []
    },
    {
      "cell_type": "markdown",
      "source": [
        "The model takes as input:\n",
        "* the total amount of hours the battery has been used\n",
        "\n",
        "* The current load (measured by the power meter)\n",
        "\n",
        "* The temperature\n",
        "\n",
        "* The manufacturer\n",
        "\n",
        "And the output is the estimated useful hours."
      ],
      "metadata": {
        "id": "gvkuLqygWfjs"
      }
    },
    {
      "cell_type": "code",
      "source": [
        "# Example usage\n",
        "test_input = {\n",
        "    'Hs': 30,  # Hours used\n",
        "    'Temperature': 60,    # °C\n",
        "    'Load': 25,           # kW\n",
        "    'Manufacturer_B': 1,  # Manufacturer B\n",
        "    'Manufacturer_C': 0   # Not C (A is baseline)\n",
        "}\n",
        "\n",
        "remaining_life = predict_remaining_life(test_input)\n",
        "print(f\"Predicted Remaining Life: {remaining_life:.2f} hours\")"
      ],
      "metadata": {
        "colab": {
          "base_uri": "https://localhost:8080/"
        },
        "id": "2cruB1KKE_Dg",
        "outputId": "f6921299-0c65-4ccb-c184-20c379893a84"
      },
      "execution_count": null,
      "outputs": [
        {
          "output_type": "stream",
          "name": "stdout",
          "text": [
            "Predicted Remaining Life: 38.47 hours\n"
          ]
        }
      ]
    },
    {
      "cell_type": "markdown",
      "source": [
        "## Simulated data\n",
        "\n",
        "* Number of batteries: 10\n",
        "\n",
        "* One month, one hour granularity\n",
        "\n",
        "* Two sensors per battery: power meter and temperature sensor"
      ],
      "metadata": {
        "id": "FQ1QwacGxYXV"
      }
    },
    {
      "cell_type": "code",
      "source": [
        "import pandas as pd\n",
        "import numpy as np\n",
        "from datetime import datetime, timedelta\n",
        "import json\n",
        "import requests\n",
        "\n",
        "# Set random seed for consistency\n",
        "np.random.seed(123)\n",
        "\n",
        "# Constants\n",
        "n_batteries = 10\n",
        "days_in_january = 31\n",
        "hours_per_day = 24\n",
        "total_hours = days_in_march * hours_per_day  # 744 hours\n",
        "start_time = datetime(2025, 3, 1, 0, 0, 0)  # March 1, 2025, 00:00:00\n",
        "\n",
        "# Simulate daily usage (1–3 hours/day) and covariates\n",
        "daily_usage = np.random.uniform(1, 3, size=(n_batteries, days_in_march))\n",
        "hourly_usage = daily_usage.cumsum(axis=1)  # Cumulative usage per day\n",
        "temperature = np.random.uniform(20, 55, n_batteries)  # 20–55°C\n",
        "load = np.random.uniform(1, 32, n_batteries)  # 1–32 kW\n",
        "manufacturers = np.random.choice(['A', 'B', 'C'], n_batteries)"
      ],
      "metadata": {
        "id": "21nFj27_IbzJ"
      },
      "execution_count": null,
      "outputs": []
    },
    {
      "cell_type": "code",
      "source": [
        "# API endpoints\n",
        "BASE_URL_REMOTE = \"http://13.60.16.153/api/v1/\"\n",
        "HEADERS = {\"Content-Type\": \"application/json\"}"
      ],
      "metadata": {
        "id": "IYYv1iRuT-Xu"
      },
      "execution_count": null,
      "outputs": []
    },
    {
      "cell_type": "code",
      "source": [
        "requests.get(f\"{BASE_URL_REMOTE}buildings\").json()"
      ],
      "metadata": {
        "colab": {
          "base_uri": "https://localhost:8080/"
        },
        "id": "r4t-rl3OUG8m",
        "outputId": "69fc760e-2d3f-4425-e879-d02db132035e"
      },
      "execution_count": null,
      "outputs": [
        {
          "output_type": "execute_result",
          "data": {
            "text/plain": [
              "{'buildings': [{'building_id': 'b001',\n",
              "   'name': 'HQ',\n",
              "   'description': 'Headquarters',\n",
              "   'location': '1234 Main St.'}]}"
            ]
          },
          "metadata": {},
          "execution_count": 44
        }
      ]
    },
    {
      "cell_type": "code",
      "source": [
        "requests.get(f\"{BASE_URL_REMOTE}spaces\").json()"
      ],
      "metadata": {
        "colab": {
          "base_uri": "https://localhost:8080/"
        },
        "id": "Z7dp4s4jUWBC",
        "outputId": "80ab48c1-4434-4c74-9650-06290d595626"
      },
      "execution_count": null,
      "outputs": [
        {
          "output_type": "execute_result",
          "data": {
            "text/plain": [
              "{'spaces': [{'building_id': 'b001',\n",
              "   'name': 'Room 0',\n",
              "   'type': 'Operation',\n",
              "   'floor': 1,\n",
              "   'space_id': 'sp1'},\n",
              "  {'building_id': 'b001',\n",
              "   'name': 'Room 1',\n",
              "   'type': 'Operation',\n",
              "   'floor': 1,\n",
              "   'space_id': 'sp2'},\n",
              "  {'building_id': 'b001',\n",
              "   'name': 'Room 2',\n",
              "   'type': 'Operation',\n",
              "   'floor': 1,\n",
              "   'space_id': 'sp3'},\n",
              "  {'building_id': 'b001',\n",
              "   'name': 'Room 3',\n",
              "   'type': 'Operation',\n",
              "   'floor': 1,\n",
              "   'space_id': 'sp4'},\n",
              "  {'building_id': 'b001',\n",
              "   'name': 'Engine lab',\n",
              "   'floor': 2,\n",
              "   'type': 'Lab',\n",
              "   'space_id': 'lab002'}]}"
            ]
          },
          "metadata": {},
          "execution_count": 45
        }
      ]
    },
    {
      "cell_type": "code",
      "source": [
        "# 2. Space Data\n",
        "space = {\n",
        "    \"space_id\": \"lab001\",\n",
        "    \"building_id\": \"b001\",\n",
        "    \"name\": \"Battery Test Lab\",\n",
        "    \"type\": \"laboratory\",\n",
        "    \"floor\": 2\n",
        "}\n",
        "space"
      ],
      "metadata": {
        "colab": {
          "base_uri": "https://localhost:8080/"
        },
        "id": "ovHMwMptImus",
        "outputId": "acd1f84d-6c95-41ce-d297-00a8f861862d"
      },
      "execution_count": null,
      "outputs": [
        {
          "output_type": "execute_result",
          "data": {
            "text/plain": [
              "{'space_id': 'lab001',\n",
              " 'building_id': 'b001',\n",
              " 'name': 'Battery Test Lab',\n",
              " 'type': 'laboratory',\n",
              " 'floor': 2}"
            ]
          },
          "metadata": {},
          "execution_count": 53
        }
      ]
    },
    {
      "cell_type": "code",
      "source": [
        "response = requests.post(f\"{BASE_URL_REMOTE}spaces\", headers=HEADERS, data=json.dumps(space))\n",
        "print(f\"Space Post Status: {response.status_code} - {response.text}\")"
      ],
      "metadata": {
        "colab": {
          "base_uri": "https://localhost:8080/"
        },
        "id": "my3-pNhcVwkn",
        "outputId": "ecc54875-910c-4c38-979d-544348332981"
      },
      "execution_count": null,
      "outputs": [
        {
          "output_type": "stream",
          "name": "stdout",
          "text": [
            "Space Post Status: 201 - {\"space\":{\"building_id\":\"b001\",\"name\":\"Battery Test Lab\",\"floor\":2,\"type\":\"laboratory\",\"space_id\":\"lab001\"}}\n"
          ]
        }
      ]
    },
    {
      "cell_type": "code",
      "source": [
        "response = requests.get(f\"{BASE_URL_REMOTE}spaces\")\n",
        "print(f\"Space Get Status: {response.status_code} - {response.text}\")"
      ],
      "metadata": {
        "colab": {
          "base_uri": "https://localhost:8080/"
        },
        "id": "Uz_HDfaPV7UX",
        "outputId": "0078d7d6-aca8-43d2-ad3c-3b35eb3c8138"
      },
      "execution_count": null,
      "outputs": [
        {
          "output_type": "stream",
          "name": "stdout",
          "text": [
            "Space Get Status: 200 - {\"spaces\":[{\"building_id\":\"b001\",\"name\":\"Room 0\",\"type\":\"Operation\",\"floor\":1,\"space_id\":\"sp1\"},{\"building_id\":\"b001\",\"name\":\"Room 1\",\"type\":\"Operation\",\"floor\":1,\"space_id\":\"sp2\"},{\"building_id\":\"b001\",\"name\":\"Room 2\",\"type\":\"Operation\",\"floor\":1,\"space_id\":\"sp3\"},{\"building_id\":\"b001\",\"name\":\"Room 3\",\"type\":\"Operation\",\"floor\":1,\"space_id\":\"sp4\"},{\"building_id\":\"b001\",\"name\":\"Engine lab\",\"type\":\"Lab\",\"floor\":2,\"space_id\":\"lab002\"},{\"building_id\":\"b001\",\"name\":\"Battery Test Lab\",\"type\":\"laboratory\",\"floor\":2,\"space_id\":\"lab001\"}]}\n"
          ]
        }
      ]
    },
    {
      "cell_type": "code",
      "source": [
        "# 3. Equipment Data (one per battery)\n",
        "equipment_list = [\n",
        "    {\n",
        "        \"equipment_id\": f\"batt_{i+1}\",\n",
        "        \"space_id\": \"lab001\",\n",
        "        \"name\": f\"Battery {i+1}\",\n",
        "        \"type\": \"Battery\",\n",
        "        \"manufacturer\": manufacturers[i],\n",
        "        \"model\": \"SimBatt-2025\"\n",
        "    } for i in range(n_batteries)\n",
        "]"
      ],
      "metadata": {
        "id": "unsyRFtUIonF"
      },
      "execution_count": null,
      "outputs": []
    },
    {
      "cell_type": "code",
      "source": [
        "for equip in equipment_list:\n",
        "    response = requests.post(f\"{BASE_URL_REMOTE}equipment\", headers=HEADERS, data=json.dumps(equip))\n",
        "    print(f\"Equipment {equip['equipment_id']} Post Status: {response.status_code} - {response.text}\")"
      ],
      "metadata": {
        "colab": {
          "base_uri": "https://localhost:8080/"
        },
        "id": "sdbbd7MtWnac",
        "outputId": "1c50dc40-5c98-4c57-82a4-46596e8f9223"
      },
      "execution_count": null,
      "outputs": [
        {
          "output_type": "stream",
          "name": "stdout",
          "text": [
            "Equipment batt_1 Post Status: 201 - {\"equipment\":{\"name\":\"Battery 1\",\"model\":\"SimBatt-2025\",\"type\":\"Battery\",\"space_id\":\"lab001\",\"equipment_id\":\"batt_1\",\"manufacturer\":\"B\"}}\n",
            "Equipment batt_2 Post Status: 201 - {\"equipment\":{\"name\":\"Battery 2\",\"model\":\"SimBatt-2025\",\"type\":\"Battery\",\"space_id\":\"lab001\",\"equipment_id\":\"batt_2\",\"manufacturer\":\"B\"}}\n",
            "Equipment batt_3 Post Status: 201 - {\"equipment\":{\"name\":\"Battery 3\",\"model\":\"SimBatt-2025\",\"type\":\"Battery\",\"space_id\":\"lab001\",\"equipment_id\":\"batt_3\",\"manufacturer\":\"A\"}}\n",
            "Equipment batt_4 Post Status: 201 - {\"equipment\":{\"name\":\"Battery 4\",\"model\":\"SimBatt-2025\",\"type\":\"Battery\",\"space_id\":\"lab001\",\"equipment_id\":\"batt_4\",\"manufacturer\":\"A\"}}\n",
            "Equipment batt_5 Post Status: 201 - {\"equipment\":{\"name\":\"Battery 5\",\"model\":\"SimBatt-2025\",\"type\":\"Battery\",\"space_id\":\"lab001\",\"equipment_id\":\"batt_5\",\"manufacturer\":\"B\"}}\n",
            "Equipment batt_6 Post Status: 201 - {\"equipment\":{\"name\":\"Battery 6\",\"model\":\"SimBatt-2025\",\"type\":\"Battery\",\"space_id\":\"lab001\",\"equipment_id\":\"batt_6\",\"manufacturer\":\"C\"}}\n",
            "Equipment batt_7 Post Status: 201 - {\"equipment\":{\"name\":\"Battery 7\",\"model\":\"SimBatt-2025\",\"type\":\"Battery\",\"space_id\":\"lab001\",\"equipment_id\":\"batt_7\",\"manufacturer\":\"A\"}}\n",
            "Equipment batt_8 Post Status: 201 - {\"equipment\":{\"name\":\"Battery 8\",\"model\":\"SimBatt-2025\",\"type\":\"Battery\",\"space_id\":\"lab001\",\"equipment_id\":\"batt_8\",\"manufacturer\":\"C\"}}\n",
            "Equipment batt_9 Post Status: 201 - {\"equipment\":{\"name\":\"Battery 9\",\"model\":\"SimBatt-2025\",\"type\":\"Battery\",\"space_id\":\"lab001\",\"equipment_id\":\"batt_9\",\"manufacturer\":\"A\"}}\n",
            "Equipment batt_10 Post Status: 201 - {\"equipment\":{\"name\":\"Battery 10\",\"model\":\"SimBatt-2025\",\"type\":\"Battery\",\"space_id\":\"lab001\",\"equipment_id\":\"batt_10\",\"manufacturer\":\"A\"}}\n"
          ]
        }
      ]
    },
    {
      "cell_type": "code",
      "source": [
        "# 4. Sensor Data (two sensors per battery: power and temperature)\n",
        "sensors_list = []\n",
        "for i in range(n_batteries):\n",
        "    # Power sensor for Load\n",
        "    sensors_list.append({\n",
        "        \"sensor_id\": f\"s_power_{i+1}\",\n",
        "        \"equipment_id\": f\"batt_{i+1}\",\n",
        "        \"type\": \"power\",\n",
        "        \"unit\": \"kW\",\n",
        "        \"measurement_range\": \"0-50\"\n",
        "    })\n",
        "    # Temperature sensor\n",
        "    sensors_list.append({\n",
        "        \"sensor_id\": f\"s_temp_{i+1}\",\n",
        "        \"equipment_id\": f\"batt_{i+1}\",\n",
        "        \"type\": \"temperature\",\n",
        "        \"unit\": \"°C\",\n",
        "        \"measurement_range\": \"0-100\"\n",
        "    })"
      ],
      "metadata": {
        "id": "U4ffvnUdIrhB"
      },
      "execution_count": null,
      "outputs": []
    },
    {
      "cell_type": "code",
      "source": [
        "for sensor in sensors_list:\n",
        "    response = requests.post(f\"{BASE_URL_REMOTE}sensors\", headers=HEADERS, data=json.dumps(sensor))\n",
        "    print(f\"Sensor {sensor['sensor_id']} Post Status: {response.status_code} - {response.text}\")"
      ],
      "metadata": {
        "id": "lca1uxqLW4sc"
      },
      "execution_count": null,
      "outputs": []
    },
    {
      "cell_type": "code",
      "source": [
        "import hashlib"
      ],
      "metadata": {
        "id": "Nv19AaR9a3r8"
      },
      "execution_count": null,
      "outputs": []
    },
    {
      "cell_type": "code",
      "source": [
        "# Updated Data Points with 24-character hash\n",
        "data_points = []\n",
        "for i in range(n_batteries):\n",
        "    batt_usage = hourly_usage[i]\n",
        "    batt_temp = temperature[i]\n",
        "    batt_load = load[i]\n",
        "    hourly_increments = np.diff(np.concatenate([[0], batt_usage]))\n",
        "    daily_index = 0\n",
        "    remaining_hours = hourly_increments[0]\n",
        "\n",
        "    for hour in range(total_hours):\n",
        "        timestamp = (start_time + timedelta(hours=hour)).isoformat() + \"Z\"\n",
        "\n",
        "        if remaining_hours <= 0 and daily_index < days_in_march - 1:\n",
        "            daily_index += 1\n",
        "            remaining_hours = hourly_increments[daily_index]\n",
        "\n",
        "        # Generate unique 24-character hash for power data point\n",
        "        power_hash_input = f\"s_power_{i+1}_{timestamp}_{hour}\"\n",
        "        power_dp_id = hashlib.sha256(power_hash_input.encode()).hexdigest()[:24]\n",
        "        power_data = {\n",
        "            \"data_point_id\": power_dp_id,\n",
        "            \"sensor_id\": f\"s_power_{i+1}\",\n",
        "            \"timestamp\": timestamp,\n",
        "            \"value\": batt_load if remaining_hours > 0 else 0\n",
        "        }\n",
        "        data_points.append(power_data)\n",
        "\n",
        "        # Generate unique 24-character hash for temperature data point\n",
        "        temp_hash_input = f\"s_temp_{i+1}_{timestamp}_{hour}\"\n",
        "        temp_dp_id = hashlib.sha256(temp_hash_input.encode()).hexdigest()[:24]\n",
        "        temp_data = {\n",
        "            \"data_point_id\": temp_dp_id,\n",
        "            \"sensor_id\": f\"s_temp_{i+1}\",\n",
        "            \"timestamp\": timestamp,\n",
        "            \"value\": batt_temp if remaining_hours > 0 else batt_temp * 0.8\n",
        "        }\n",
        "        data_points.append(temp_data)\n",
        "\n",
        "        if remaining_hours > 0:\n",
        "            remaining_hours -= 1 / hours_per_day\n",
        "\n",
        "print(f\"Total Data Points Posted: {len(data_points)}\")"
      ],
      "metadata": {
        "colab": {
          "base_uri": "https://localhost:8080/"
        },
        "id": "7jy43WicyM4y",
        "outputId": "32cdd527-625b-4913-936c-d8609cc3c9f4"
      },
      "execution_count": null,
      "outputs": [
        {
          "output_type": "stream",
          "name": "stdout",
          "text": [
            "Total Data Points Posted: 14880\n"
          ]
        }
      ]
    },
    {
      "cell_type": "code",
      "source": [
        "data_points[14000]"
      ],
      "metadata": {
        "colab": {
          "base_uri": "https://localhost:8080/"
        },
        "id": "FwaCNK-Ba6M8",
        "outputId": "4db4c290-65fa-41ed-a9f3-92af5c685114"
      },
      "execution_count": null,
      "outputs": [
        {
          "output_type": "execute_result",
          "data": {
            "text/plain": [
              "{'data_point_id': '46c0bd5d6df87c928ae1e8b1',\n",
              " 'sensor_id': 's_power_10',\n",
              " 'timestamp': '2025-03-13T16:00:00Z',\n",
              " 'value': 29.524626122529153}"
            ]
          },
          "metadata": {},
          "execution_count": 71
        }
      ]
    },
    {
      "cell_type": "code",
      "source": [
        "# Post data points in batches\n",
        "batch_size = 1000\n",
        "for i in range(0, len(data_points), batch_size):\n",
        "    batch = data_points[i:i + batch_size]\n",
        "    for point in batch:\n",
        "        # For data-ingest, use the expected format with \"device_id\" and \"data\"\n",
        "        ingest_data = {\n",
        "            \"device_id\": point[\"sensor_id\"],\n",
        "            \"timestamp\": point[\"timestamp\"],\n",
        "            \"data\": {\"load\" if \"power\" in point[\"sensor_id\"] else \"temperature\": point[\"value\"]}\n",
        "        }\n",
        "        response = requests.post(f\"{BASE_URL_REMOTE}data-ingest\", headers=HEADERS, data=json.dumps(ingest_data))\n",
        "        print(f\"Data Point {point['data_point_id']} for {point['sensor_id']} at {point['timestamp']} Status: {response.status_code} - {response.text}\")"
      ],
      "metadata": {
        "id": "3I8rtPxHayU8"
      },
      "execution_count": null,
      "outputs": []
    },
    {
      "cell_type": "code",
      "source": [
        "data_points[0]"
      ],
      "metadata": {
        "colab": {
          "base_uri": "https://localhost:8080/"
        },
        "id": "87V_9sPcYKgF",
        "outputId": "90680586-f3b2-453b-a707-82ab0ac9b04d"
      },
      "execution_count": null,
      "outputs": [
        {
          "output_type": "execute_result",
          "data": {
            "text/plain": [
              "{'data_point_id': 'dp_power_1_1',\n",
              " 'sensor_id': 's_power_1',\n",
              " 'timestamp': '2025-03-01T00:00:00Z',\n",
              " 'value': 1.1094985399536985}"
            ]
          },
          "metadata": {},
          "execution_count": 63
        }
      ]
    },
    {
      "cell_type": "code",
      "source": [
        "with open('equipment.json', 'w') as f:\n",
        "    json.dump(equipment_list, f, indent=4)\n",
        "with open('sensors.json', 'w') as f:\n",
        "    json.dump(sensors_list, f, indent=4)\n",
        "with open('data_points.json', 'w') as f:\n",
        "    json.dump(data_points, f, indent=4)"
      ],
      "metadata": {
        "id": "nHfT8xIRXxl2"
      },
      "execution_count": null,
      "outputs": []
    }
  ]
}